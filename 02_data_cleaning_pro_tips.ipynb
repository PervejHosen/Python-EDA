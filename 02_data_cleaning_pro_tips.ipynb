{
  "metadata": {
    "kernelspec": {
      "language": "python",
      "display_name": "Python 3",
      "name": "python3"
    },
    "language_info": {
      "pygments_lexer": "ipython3",
      "nbconvert_exporter": "python",
      "version": "3.6.4",
      "file_extension": ".py",
      "codemirror_mode": {
        "name": "ipython",
        "version": 3
      },
      "name": "python",
      "mimetype": "text/x-python"
    },
    "colab": {
      "provenance": [],
      "toc_visible": true
    }
  },
  "nbformat_minor": 0,
  "nbformat": 4,
  "cells": [
    {
      "cell_type": "markdown",
      "source": [
        "<div style=\"background: linear-gradient(45deg, #ff8a00, #e52e71); padding: 20px; border-radius: 10px; box-shadow: 0 0 10px rgba(0, 0, 0, 0.5); text-align: center; background-color: black; color: yellow;\">\n",
        "  <h1 style=\"font-family: Algerian; font-size: 32px;\"> Welcome to data cleaning Notebook  </h1>\n",
        "</div>\n"
      ],
      "metadata": {
        "id": "yJPOiGsdUcJU"
      }
    },
    {
      "cell_type": "markdown",
      "source": [
        "<img src=\"https://www.dataentryexport.com/blog/wp-content/uploads/2019/02/Top-5-data-cleansing-techniques-and-its-uses-min-1.jpg\" alt=\"Data Cleansing\" style=\"box-shadow: 5px 5px 10px rgba(0, 0, 0, 0.5);width: 900px;;\">\n"
      ],
      "metadata": {
        "id": "nqBpzqqpUcJX"
      }
    },
    {
      "cell_type": "markdown",
      "source": [
        "<div style=\"background-color: #c1f613; color: black; padding: 20px; border-radius: 20px; box-shadow: 0 0 10px rgba(0, 0, 0, 0.5); text-align: right;\">\n",
        "  <h1 style=\"font-family: comic sans MS; font-size: 32px;text-align: left;\"><strong>Notebook Content</strong></h1>\n",
        "  <ol style=\"color: blue;text-align: left;font-size: 18px;\">\n",
        "    <li><strong><a href=<p style=\"font-size: 18px;\">Data cleaning libraries.</a></strong></li>\n",
        "    <li><strong><a href=\"#types_of_data\">Types of data.</a></strong></li>\n",
        "    <li><strong><a href=\"#data_cleaning_methods\">Data cleaning techniques and methods.</a></strong></li>\n",
        "  </ol>\n",
        "</div>\n"
      ],
      "metadata": {
        "id": "EPp4CmH2UcJY"
      }
    },
    {
      "cell_type": "markdown",
      "source": [
        "<div style=\"background-color: #c1f613; color: black; padding: 20px; border-radius: 20px; box-shadow: 0 0 10px rgba(0, 0, 0, 0.5); text-align: right;text-align: left;\">\n",
        "  <h1 style=\"font-family: comic sans MS; font-size: 32px;\"><strong>Data Cleaning</strong></h1>\n",
        "  <p style=\"font-size: 18px;\">\n",
        "    Data cleaning is the process of identifying and correcting errors, inconsistencies, and inaccuracies in datasets to ensure they are accurate, reliable, and suitable for analysis. Data professionals typically spend a significant portion of their time on data cleaning, with estimates ranging from 50% to 80%. This crucial step in the data preparation process involves identifying and rectifying errors, inconsistencies, and missing values in datasets to ensure data quality and reliability for subsequent analysis. Data cleaning is fundamental to accurate and meaningful data analysis and modeling.\n",
        "  </p>\n",
        "</div>\n"
      ],
      "metadata": {
        "id": "Qi2a_tRkUcJY"
      }
    },
    {
      "cell_type": "markdown",
      "source": [
        "<div style=\"background-color: #c1f613; color: black; padding: 20px; border-radius: 20px; box-shadow: 0 0 10px rgba(0, 0, 0, 0.5); text-align: right;text-align: left;\">\n",
        "  <h1 style=\"font-family: comic sans MS; font-size: 32px;\"> <strong>Why data cleaning is needed ?</strong></h1>\n",
        "  <p style=\"font-size: 18px;\">\n",
        "    Data cleaning is necessary to ensure data accuracy, quality, and consistency, reduce biases, handle missing values, and meet compliance requirements, ultimately enabling reliable and meaningful data analysis.\n",
        "  </p>\n",
        "</div>\n"
      ],
      "metadata": {
        "id": "NXCRiYi8UcJY"
      }
    },
    {
      "cell_type": "markdown",
      "source": [
        "<div style=\"background-color: #fbe928; color: black; padding: 20px; border-radius: 20px; box-shadow: 0 0 10px rgba(0, 0, 0, 0.5); text-align: right;text-align: left;\">\n",
        "    <h1 style=\"font-family: comic sans MS; font-size: 32px;\"> <strong>Data cleaning libraries</strong></h1>\n",
        "  <p style=\"font-size: 18px;\">"
      ],
      "metadata": {
        "id": "Zy4pkKWVUcJZ"
      }
    },
    {
      "cell_type": "markdown",
      "source": [
        "<div style=\"background-color: #c1f613; color: black; padding: 20px; border-radius: 20px; box-shadow: 0 0 10px rgba(0, 0, 0, 0.5); text-align: right;text-align: left;\">\n",
        "  <h1 style=\"font-family: comic sans MS; font-size: 32px;\"> Python </h1>\n",
        "  <p style=\"font-size: 18px;\">\n",
        "    <strong>Pandas</strong>: Pandas is one of the most popular libraries for data manipulation and cleaning in Python. It provides numerous functions and methods for handling missing data, duplicates, and more.</p>\n",
        "\n",
        "<p style=\"font-size: 18px;\"><strong>NumPy</strong>: While not specifically a data cleaning library, NumPy is often used in conjunction with Pandas for numerical data cleaning and manipulate.</p>\n",
        "\n",
        "<p style=\"font-size: 18px;\"><strong>scikit-learn</strong>: This library offers tools for data preprocessing, including techniques like scaling, imputation, and feature selection.</p>\n",
        "\n",
        "<p style=\"font-size: 18px;\"><strong>OpenRefine</strong>: This is a standalone tool for data cleaning that provides a graphical user interface for various data transformation tasks.</p>\n",
        "</div>\n"
      ],
      "metadata": {
        "id": "HGAHWPsHUcJZ"
      }
    },
    {
      "cell_type": "markdown",
      "source": [
        "<div style=\"background-color: #c1f613; color: black; padding: 20px; border-radius: 20px; box-shadow: 0 0 10px rgba(0, 0, 0, 0.5); text-align: right;text-align: left;\">\n",
        "  <h1 style=\"font-family: comic sans MS; font-size: 32px;\"> <strong>R </strong></h1>\n",
        "  <p style=\"font-size: 18px;\">\n",
        "    <strong>dplyr</strong>: Part of the tidyverse, dplyr provides a set of easy-to-use functions for data manipulation, including filtering, grouping, and summarizing.</p>\n",
        "\n",
        "<p style=\"font-size: 18px;\"><strong>tidyr</strong>: Also part of the tidyverse, tidyr focuses on data tidying, which often includes reshaping and restructuring data for analysis.</p>\n",
        "\n",
        "<p style=\"font-size: 18px;\"><strong>data.table</strong>: This library is known for its fast data manipulation capabilities and is commonly used for cleaning and transforming large datasets.</p>\n",
        "\n",
        "<p style=\"font-size: 18px;\"><strong>janitor</strong>: A package that provides several convenient functions for data cleaning tasks in R.</p>\n",
        "</div>\n"
      ],
      "metadata": {
        "id": "b42vzLcXUcJZ"
      }
    },
    {
      "cell_type": "markdown",
      "source": [
        "<div style=\"background-color: #fbe928; color: black; padding: 20px; border-radius: 20px; box-shadow: 0 0 10px rgba(0, 0, 0, 0.5); text-align: right;text-align: left;\">\n",
        "    <h1 style=\"font-family: comic sans MS; font-size: 32px;\"> <strong>Types of data</strong></h1>\n",
        "  <p style=\"font-size: 18px;\">"
      ],
      "metadata": {
        "id": "eg5nqSQuUcJa"
      }
    },
    {
      "cell_type": "markdown",
      "source": [
        "<div style=\"background-color: #c1f613; color: black; padding: 20px; border-radius: 20px; box-shadow: 0 0 10px rgba(0, 0, 0, 0.5); text-align: right;text-align: left;\">\n",
        "  <h1 style=\"font-family: comic sans MS; font-size: 32px;\"> Dirty Data</h1>\n",
        "  <p style=\"font-size: 18px;\">\n",
        "    <strong>Definition:</strong> Dirty data is data that contains errors, inconsistencies, or inaccuracies. It can result from data entry mistakes, data integration issues, or system errors.</p>\n",
        "\n",
        "<p style=\"font-size: 18px;\"><strong>Examples:</strong></p>\n",
        "<ul style=\"font-size: 18px;\">\n",
        "    <li>Typographical Errors: Misspelled names, incorrect numerical values, or inconsistent formatting.</li>\n",
        "    <li>Duplicate Data: Records that are repeated within a dataset.</li>\n",
        "    <li>Inconsistent Data: Data that doesn't follow a defined format or standard, such as using different date formats.</li>\n",
        "</ul>\n",
        "</div>\n"
      ],
      "metadata": {
        "id": "uP7ajHWkUcJa"
      }
    },
    {
      "cell_type": "markdown",
      "source": [
        "<div style=\"background-color: #c1f613; color: black; padding: 20px; border-radius: 20px; box-shadow: 0 0 10px rgba(0, 0, 0, 0.5); text-align: right;text-align: left;\">\n",
        "  <h1 style=\"font-family: comic sans MS; font-size: 32px;\"> Messy Data</h1>\n",
        "  <p style=\"font-size: 18px;\">\n",
        "    <strong>Definition:</strong> Messy data refers to data that is not well-structured or organized, making it challenging to work with. It often requires cleaning and transformation.</p>\n",
        "\n",
        "<p style=\"font-size: 18px;\"><strong>Examples:</strong></p>\n",
        "<ul style=\"font-size: 18px;\">\n",
        "    <li>Missing Values: Cells or fields with no data or empty values.</li>\n",
        "    <li>Inconsistent Categorization: Using multiple variations to represent the same category (e.g., \"USA,\" \"United States,\" \"U.S.A.\").</li>\n",
        "    <li>Non-Standard Units: Using different units of measurement within the same dataset without proper labeling.</li>\n",
        "</ul>\n",
        "</div>\n"
      ],
      "metadata": {
        "id": "SanQ7PaPUcJa"
      }
    },
    {
      "cell_type": "markdown",
      "source": [
        "<div style=\"background-color: #c1f613; color: black; padding: 20px; border-radius: 20px; box-shadow: 0 0 10px rgba(0, 0, 0, 0.5); text-align: right;text-align: left;\">\n",
        "  <h1 style=\"font-family: comic sans MS; font-size: 32px;\"> Noisy Data</h1>\n",
        "  <p style=\"font-size: 18px;\">\n",
        "    <strong>Definition:</strong> Noisy data contains random or irrelevant information that can obscure meaningful patterns. It can result from measurement errors, sensor inaccuracies, or data transmission issues.</p>\n",
        "\n",
        "<p style=\"font-size: 18px;\"><strong>Examples:</strong></p>\n",
        "<ul style=\"font-size: 18px;\">\n",
        "    <li>Random Outliers: Data points that deviate significantly from the expected values due to errors or random variation.</li>\n",
        "    <li>Spelling Variations: Inconsistent spellings of the same entity's name (e.g., \"McDonald's\" and \"McDonalds\").</li>\n",
        "    <li>Sensor Malfunctions: Incorrect sensor readings due to equipment failures or interference.</li>\n",
        "</ul>\n",
        "</div>\n"
      ],
      "metadata": {
        "id": "heRjHzfyUcJa"
      }
    },
    {
      "cell_type": "markdown",
      "source": [
        "<div style=\"background-color: #c1f613; color: black; padding: 20px; border-radius: 20px; box-shadow: 0 0 10px rgba(0, 0, 0, 0.5); text-align: right;text-align: left;\">\n",
        "  <h1 style=\"font-family: comic sans MS; font-size: 32px;\"> Inconsistent Data</h1>\n",
        "  <p style=\"font-size: 18px;\">\n",
        "    <strong>Definition:</strong> Inconsistent data occurs when data values do not adhere to defined rules or standards. It can lead to logical conflicts and data quality problems.</p>\n",
        "\n",
        "<p style=\"font-size: 18px;\"><strong>Examples:</strong></p>\n",
        "<ul style=\"font-size: 18px;\">\n",
        "    <li>Date Inconsistencies: Mixing date formats like \"MM/DD/YYYY\" and \"DD/MM/YYYY\" within the same dataset.</li>\n",
        "    <li>Contradictory Information: Records that contain conflicting information, such as a negative age value.</li>\n",
        "</ul>\n",
        "</div>\n"
      ],
      "metadata": {
        "id": "aetH_hnQUcJc"
      }
    },
    {
      "cell_type": "markdown",
      "source": [
        "<div style=\"background-color: #c1f613; color: black; padding: 20px; border-radius: 20px; box-shadow: 0 0 10px rgba(0, 0, 0, 0.5); text-align: right;text-align: left;\">\n",
        "  <h1 style=\"font-family: comic sans MS; font-size: 32px;\"> Inaccurate Data</h1>\n",
        "  <p style=\"font-size: 18px;\">\n",
        "    <strong>Definition:</strong> Inaccurate data is data that contains incorrect or outdated information. It can result from human errors, data sources with unreliable data, or changes over time.</p>\n",
        "\n",
        "<p style=\"font-size: 18px;\"><strong>Examples:</strong></p>\n",
        "<ul style=\"font-size: 18px;\">\n",
        "    <li>Incorrect Measurements: Data values that do not represent the true state of the measured attribute.</li>\n",
        "    <li>Outdated Information: Using old addresses, phone numbers, or prices in a dataset.</li>\n",
        "</ul>\n",
        "</div>\n"
      ],
      "metadata": {
        "id": "O9qMYieZUcJd"
      }
    },
    {
      "cell_type": "markdown",
      "source": [
        "<div style=\"background-color: #c1f613; color: black; padding: 20px; border-radius: 20px; box-shadow: 0 0 10px rgba(0, 0, 0, 0.5); text-align: right;text-align: left;\">\n",
        "  <h1 style=\"font-family: comic sans MS; font-size: 32px;\"> Missing Data</h1>\n",
        "  <p style=\"font-size: 18px;\">\n",
        "    <strong>Definition:</strong> Missing data refers to data values that are entirely absent from the dataset or particular data fields. Missing data can occur due to non-responses, data collection errors, or data deletion.</p>\n",
        "\n",
        "<p style=\"font-size: 18px;\"><strong>Examples:</strong></p>\n",
        "<ul style=\"font-size: 18px;\">\n",
        "    <li>Null Values: Fields that have no values or placeholders like \"N/A\" or \"Not Available.\"</li>\n",
        "    <li>Partial Records: Incomplete entries where critical information is missing.</li>\n",
        "</ul>\n",
        "</div>\n"
      ],
      "metadata": {
        "id": "o5LS13orUcJd"
      }
    },
    {
      "cell_type": "markdown",
      "source": [
        "<div style=\"background-color: #fbe928; color: black; padding: 20px; border-radius: 20px; box-shadow: 0 0 10px rgba(0, 0, 0, 0.5); text-align: right;text-align: left;\">\n",
        "    <h1 style=\"font-family: comic sans MS; font-size: 32px;\"> <strong>Data cleaning techniques and methods</strong></h1>\n",
        "  <p style=\"font-size: 18px;\">"
      ],
      "metadata": {
        "id": "yhm5NqwtUcJd"
      }
    },
    {
      "cell_type": "markdown",
      "source": [
        "<div style=\"background-color: #c1f613; color: black; padding: 20px; border-radius: 20px; box-shadow: 0 0 10px rgba(0, 0, 0, 0.5); text-align: right;text-align: left;\">\n",
        "  <h1 style=\"font-family: comic sans MS; font-size: 32px;\"> Handling Missing Data</h1>\n",
        "  <p style=\"font-size: 18px;\">\n",
        "    <strong>Imputation:</strong> Suppose you have a dataset of student exam scores, but some students have missing scores. You can impute the missing scores with the mean score of all the students who took the exam.</p>\n",
        "</div>\n"
      ],
      "metadata": {
        "id": "Mf0K2EIbUcJe"
      }
    },
    {
      "cell_type": "markdown",
      "source": [
        "<div style=\"background-color: #c1f613; color: black; padding: 20px; border-radius: 20px; box-shadow: 0 0 10px rgba(0, 0, 0, 0.5); text-align: right;text-align: left;\">\n",
        "  <h1 style=\"font-family: comic sans MS; font-size: 32px;\"> Outlier Detection and Handling</h1>\n",
        "  <p style=\"font-size: 18px;\">\n",
        "    <strong>Z-Score or IQR:</strong> In a dataset of house prices, you calculate the Z-scores for each price. Any price with a Z-score greater than 3 or less than -3 is considered an outlier and can be removed or transformed.</p>\n",
        "</div>\n"
      ],
      "metadata": {
        "id": "MX-GqUezUcJe"
      }
    },
    {
      "cell_type": "markdown",
      "source": [
        "<div style=\"background-color: #c1f613; color: black; padding: 20px; border-radius: 20px; box-shadow: 0 0 10px rgba(0, 0, 0, 0.5); text-align: right;text-align: left;\">\n",
        "  <h1 style=\"font-family: comic sans MS; font-size: 32px;\"> Data Transformation</h1>\n",
        "  <p style=\"font-size: 18px;\">\n",
        "    <strong>Normalization:</strong> Consider a dataset with columns for height and weight. You can normalize these values to a range between 0 and 1, making them comparable.</p>\n",
        "    <p style=\"font-size: 18px;\">\n",
        "    <strong>Log Transformation:</strong> If you're analyzing data on product prices, you can apply a log transformation to reduce the impact of extreme values, creating a more normally distributed variable.</p>\n",
        "</div>\n"
      ],
      "metadata": {
        "id": "_7gW0shDUcJe"
      }
    },
    {
      "cell_type": "markdown",
      "source": [
        "<div style=\"background-color: #c1f613; color: black; padding: 20px; border-radius: 20px; box-shadow: 0 0 10px rgba(0, 0, 0, 0.5); text-align: right;text-align: left;\">\n",
        "  <h1 style=\"font-family: comic sans MS; font-size: 32px;\"> Handling Duplicates</h1>\n",
        "  <p style=\"font-size: 18px;\">\n",
        "    <strong>Duplicate Removal:</strong> In a sales dataset, you discover that the same transaction was recorded twice due to a data entry error. Removing duplicates ensures that each sale is counted only once.</p>\n",
        "</div>\n"
      ],
      "metadata": {
        "id": "LiBpDU-8UcJe"
      }
    },
    {
      "cell_type": "markdown",
      "source": [
        "<div style=\"background-color: #c1f613; color: black; padding: 20px; border-radius: 20px; box-shadow: 0 0 10px rgba(0, 0, 0, 0.5); text-align: right;text-align: left;\">\n",
        "  <h1 style=\"font-family: comic sans MS; font-size: 32px;\"> Data Type Conversion</h1>\n",
        "  <p style=\"font-size: 18px;\">\n",
        "    <strong>Casting:</strong> If you're working with a dataset of product prices stored as strings, you can cast them to a numeric data type for calculations.</p>\n",
        "</div>\n"
      ],
      "metadata": {
        "id": "LBOJU1_xUcJe"
      }
    },
    {
      "cell_type": "markdown",
      "source": [
        "<div style=\"background-color: #c1f613; color: black; padding: 20px; border-radius: 20px; box-shadow: 0 0 10px rgba(0, 0, 0, 0.5); text-align: right;text-align: left;\">\n",
        "  <h1 style=\"font-family: comic sans MS; font-size: 32px;\"> String Cleaning</h1>\n",
        "  <p style=\"font-size: 18px;\">\n",
        "    <strong>Text Cleaning:</strong> In a dataset of customer reviews, you can remove special characters, convert text to lowercase, and eliminate stopwords (common words like \"the\" or \"and\") to prepare the text for sentiment analysis.</p>\n",
        "</div>\n"
      ],
      "metadata": {
        "id": "Sn_Ts70lUcJe"
      }
    },
    {
      "cell_type": "markdown",
      "source": [
        "<div style=\"background-color: #c1f613; color: black; padding: 20px; border-radius: 20px; box-shadow: 0 0 10px rgba(0, 0, 0, 0.5); text-align: right;text-align: left;\">\n",
        "  <h1 style=\"font-family: comic sans MS; font-size: 32px;\"> Dealing with Inconsistent Data</h1>\n",
        "  <p style=\"font-size: 18px;\">\n",
        "    <strong>Standardization:</strong> Suppose you're analyzing data on global temperatures. You can standardize temperature units to Celsius or Fahrenheit for consistency.</p>\n",
        "    <p style=\"font-size: 18px;\">\n",
        "    <strong>Address Standardization:</strong> Normalize addresses by converting variations like \"St.\" and \"Street\" to a single format (e.g., \"St.\").</p>\n",
        "</div>\n"
      ],
      "metadata": {
        "id": "ZyO_yASwUcJe"
      }
    },
    {
      "cell_type": "markdown",
      "source": [
        "<div style=\"background-color: #c1f613; color: black; padding: 20px; border-radius: 20px; box-shadow: 0 0 10px rgba(0, 0, 0, 0.5); text-align: right;text-align: left;\">\n",
        "  <h1 style=\"font-family: comic sans MS; font-size: 32px;\"> Handling Categorical Data</h1>\n",
        "  <p style=\"font-size: 18px;\">\n",
        "    <strong>One-Hot Encoding:</strong> If you have a dataset of car types with categories like \"Sedan,\" \"SUV,\" and \"Truck,\" you can convert them into binary columns (e.g., Sedan: 1 or 0, SUV: 1 or 0, Truck: 1 or 0).</p>\n",
        "    <p style=\"font-size: 18px;\">\n",
        "    <strong>Label Encoding:</strong> In a dataset of movie ratings, you can assign labels to ratings like \"Excellent,\" \"Good,\" and \"Poor\" as 1, 2, and 3, respectively.</p>\n",
        "</div>\n"
      ],
      "metadata": {
        "id": "hzx_tAVeUcJe"
      }
    },
    {
      "cell_type": "markdown",
      "source": [
        "<div style=\"background-color: #c1f613; color: black; padding: 20px; border-radius: 20px; box-shadow: 0 0 10px rgba(0, 0, 0, 0.5); text-align: right;text-align: left;\">\n",
        "  <h1 style=\"font-family: comic sans MS; font-size: 32px;\"> Data Validation</h1>\n",
        "  <p style=\"font-size: 18px;\">\n",
        "    <strong>Cross-Validation:</strong> When merging customer data from different sources, you can cross-validate records based on unique identifiers like customer IDs to ensure consistency.</p>\n",
        "    <p style=\"font-size: 18px;\">\n",
        "    <strong>Business Rule Validation:</strong> If you're analyzing sales data, you can validate that order dates are always chronologically ordered and that quantities ordered are non-negative.</p>\n",
        "</div>\n"
      ],
      "metadata": {
        "id": "aeK91yOuUcJe"
      }
    },
    {
      "cell_type": "markdown",
      "source": [
        "<div style=\"background-color: #c1f613; color: black; padding: 20px; border-radius: 20px; box-shadow: 0 0 10px rgba(0, 0, 0, 0.5); text-align: right;text-align: left;\">\n",
        "  <h1 style=\"font-family: comic sans MS; font-size: 32px;\"> Time Series Data Cleaning</h1>\n",
        "  <p style=\"font-size: 18px;\">\n",
        "    <strong>Smoothing:</strong> In a time series of stock prices, you can smooth out daily fluctuations by applying a 7-day moving average to identify long-term trends.</p>\n",
        "    <p style=\"font-size: 18px;\">\n",
        "    <strong>Interpolation:</strong> If you have missing monthly sales data, you can estimate the missing values by interpolating between the known data points.</p>\n",
        "</div>\n"
      ],
      "metadata": {
        "id": "GNPaf9xlUcJe"
      }
    },
    {
      "cell_type": "markdown",
      "source": [
        "<div style=\"background-color: #c1f613; color: black; padding: 20px; border-radius: 20px; box-shadow: 0 0 10px rgba(0, 0, 0, 0.5); text-align: right;text-align: left;\">\n",
        "  <h1 style=\"font-family: comic sans MS; font-size: 32px;\"> Handling Inconsistent Schemas</h1>\n",
        "  <p style=\"font-size: 18px;\">\n",
        "    <strong>Schema Matching:</strong> When combining data from different departments in a company, you can create a unified schema by mapping columns with similar meanings, even if they have different names.</p>\n",
        "</div>\n"
      ],
      "metadata": {
        "id": "PuReXWpPUcJe"
      }
    },
    {
      "cell_type": "markdown",
      "source": [
        "<div style=\"background-color: #c1f613; color: black; padding: 20px; border-radius: 20px; box-shadow: 0 0 10px rgba(0, 0, 0, 0.5); text-align: right;text-align: left;\">\n",
        "  <h1 style=\"font-family: comic sans MS; font-size: 32px;\"> Automated Data Cleaning</h1>\n",
        "  <p style=\"font-size: 18px;\">\n",
        "    <strong>Machine Learning Approaches:</strong> Use machine learning algorithms to automatically detect erroneous data points. For example, anomaly detection models can find unusual patterns in server log data.</p>\n",
        "</div>\n"
      ],
      "metadata": {
        "id": "HGwQImhHUcJe"
      }
    }
  ]
}
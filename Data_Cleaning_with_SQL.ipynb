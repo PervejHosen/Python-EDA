{
  "cells": [
    {
      "cell_type": "markdown",
      "metadata": {
        "id": "4ce3be56"
      },
      "source": [
        "## # **Data Cleaning & Ad Hoc Analysis with SQL**"
      ]
    },
    {
      "cell_type": "markdown",
      "metadata": {
        "id": "g2b0gtsGCcgz"
      },
      "source": [
        "### What we will see and what data Analyst require in real life\n",
        "\n",
        "\n",
        "\n",
        "*   Playing with Date column\n",
        "*   Findings/Removing Duplicate\n",
        "*   Handalling/Imputing/Replacing missing values\n",
        "*   Standardize Categorical Data\n",
        "*   Filtering Out\n",
        "*   Flatten Nested Field\n",
        "*   Combine/Concatenet data\n",
        "*   Conditional Columns\n",
        "*   RegEx using\n",
        "*   Creating views\n",
        "\n"
      ]
    },
    {
      "cell_type": "markdown",
      "metadata": {
        "id": "cb8181ed"
      },
      "source": [
        "## ## **1. Convert date to Proper Date Format**\n",
        "\n",
        "Description: Convert the integer date field to a readable DATE format."
      ]
    },
    {
      "cell_type": "markdown",
      "metadata": {
        "id": "x1N-Iwe69BVP"
      },
      "source": [
        "\n",
        "```\n",
        "SELECT\n",
        "  PARSE_DATE('%Y%m%d', CAST(date AS STRING)) AS formatted_date\n",
        "FROM\n",
        "  `bigquery-public-data.google_analytics_sample.ga_sessions_*`;\n",
        "\n",
        "```\n",
        "\n",
        "\n",
        "\n"
      ]
    },
    {
      "cell_type": "markdown",
      "metadata": {
        "id": "04023b40"
      },
      "source": [
        "## **Date functions everything in one query**\n",
        "\n",
        "```\n",
        "SELECT\n",
        "  date,\n",
        "  PARSE_DATE('%Y%m%d', CAST(date AS STRING)) AS formatted_date,\n",
        "  FORMAT_TIMESTAMP('%Y-%m-%d %H:%M:%S', TIMESTAMP_SECONDS(visitStartTime)) AS formatted_time,\n",
        "  EXTRACT(YEAR FROM TIMESTAMP_SECONDS(visitStartTime)) AS year,\n",
        "  EXTRACT(MONTH FROM TIMESTAMP_SECONDS(visitStartTime)) AS month,\n",
        "  EXTRACT(DAY FROM TIMESTAMP_SECONDS(visitStartTime)) AS day,\n",
        "  EXTRACT(DAYOFWEEK FROM TIMESTAMP_SECONDS(visitStartTime)) AS day_of_week,  -- 1 = Sunday, 7 = Saturday\n",
        "  EXTRACT(HOUR FROM TIMESTAMP_SECONDS(visitStartTime)) AS hour,\n",
        "  EXTRACT(MINUTE FROM TIMESTAMP_SECONDS(visitStartTime)) AS minute,\n",
        "  CASE\n",
        "    WHEN EXTRACT(HOUR FROM TIMESTAMP_SECONDS(visitStartTime)) BETWEEN 0 AND 6 THEN 'Late Night'\n",
        "    WHEN EXTRACT(HOUR FROM TIMESTAMP_SECONDS(visitStartTime)) BETWEEN 7 AND 12 THEN 'Morning'\n",
        "    WHEN EXTRACT(HOUR FROM TIMESTAMP_SECONDS(visitStartTime)) BETWEEN 13 AND 18 THEN 'Afternoon'\n",
        "    ELSE 'Evening'\n",
        "  END AS time_period,\n",
        "  CASE\n",
        "    WHEN EXTRACT(DAYOFWEEK FROM TIMESTAMP_SECONDS(visitStartTime)) IN (1, 7) THEN 'Weekend'\n",
        "    ELSE 'Weekday'\n",
        "  END AS day_type,\n",
        "  COUNT(*) AS visit_count\n",
        "FROM\n",
        "  `bigquery-public-data.google_analytics_sample.ga_sessions_20170801`\n",
        "GROUP BY\n",
        "  date,year, month, day, day_of_week, hour, minute, formatted_time, time_period, day_type\n",
        "LIMIT 10;\n",
        "\n",
        "```"
      ]
    },
    {
      "cell_type": "markdown",
      "metadata": {
        "id": "275093da"
      },
      "source": [
        "## ## **2. Findings Duplicate Rows diff ways**\n",
        "\n",
        "Description: Ensure no duplicate combinations of fullVisitorId and visitId exist."
      ]
    },
    {
      "cell_type": "markdown",
      "metadata": {
        "id": "PQxkbgGrPq80"
      },
      "source": [
        "Using COUNT with GROUP BY\n",
        "\n",
        "\n",
        "```\n",
        "SELECT\n",
        "  fullVisitorId,\n",
        "  COUNT(*) AS duplicate_count\n",
        "FROM\n",
        "  `bigquery-public-data.google_analytics_sample.ga_sessions_20170801`\n",
        "GROUP BY\n",
        "  fullVisitorId\n",
        "HAVING\n",
        "  COUNT(*) > 1\n",
        "ORDER BY\n",
        "  duplicate_count DESC;\n",
        "\n",
        "```\n",
        "\n"
      ]
    },
    {
      "cell_type": "markdown",
      "metadata": {
        "id": "dwbusVBGQN1n"
      },
      "source": [
        "Using COUNTIF()\n",
        "\n",
        "\n",
        "\n",
        "```\n",
        "SELECT\n",
        "  fullVisitorId,\n",
        "  COUNTIF(fullVisitorId = fullVisitorId) AS duplicate_count\n",
        "FROM\n",
        "  `bigquery-public-data.google_analytics_sample.ga_sessions_20170801`\n",
        "GROUP BY\n",
        "  fullVisitorId\n",
        "HAVING\n",
        "  duplicate_count > 1;\n",
        "\n",
        "```\n",
        "\n"
      ]
    },
    {
      "cell_type": "markdown",
      "metadata": {
        "id": "3167pcoOP0TE"
      },
      "source": [
        "Using ROW_NUMBER() Window Function\n",
        "\n",
        "\n",
        "\n",
        "```\n",
        "SELECT\n",
        "  *\n",
        "FROM (\n",
        "  SELECT\n",
        "    *,\n",
        "    ROW_NUMBER() OVER (PARTITION BY fullVisitorId ORDER BY visitId) AS row_num\n",
        "  FROM\n",
        "    `bigquery-public-data.google_analytics_sample.ga_sessions_20170801`\n",
        ")\n",
        "WHERE\n",
        "  row_num > 1\n",
        "ORDER BY\n",
        "  fullVisitorId, visitId;\n",
        "\n",
        "```\n",
        "\n"
      ]
    },
    {
      "cell_type": "markdown",
      "metadata": {
        "id": "040c13c5"
      },
      "source": [
        "## ## **3. Duplicate Ignoring**"
      ]
    },
    {
      "cell_type": "markdown",
      "metadata": {
        "id": "ndi6E-6KQ2Z2"
      },
      "source": [
        "Using DISTINCT to Remove Duplicate Rows\n",
        "\n",
        "\n",
        "\n",
        "```\n",
        "SELECT DISTINCT\n",
        "  *\n",
        "FROM\n",
        "  `bigquery-public-data.google_analytics_sample.ga_sessions_20170801`;\n",
        "\n",
        "```\n",
        "\n"
      ]
    },
    {
      "cell_type": "markdown",
      "metadata": {
        "id": "6gfdThn2Q7kW"
      },
      "source": [
        "Removing Duplicates Based on Specific Columns\n",
        "\n",
        "\n",
        "\n",
        "```\n",
        "SELECT\n",
        "  *\n",
        "FROM (\n",
        "  SELECT\n",
        "    *,\n",
        "    ROW_NUMBER() OVER (PARTITION BY fullVisitorId ORDER BY visitId) AS row_num\n",
        "  FROM\n",
        "    `bigquery-public-data.google_analytics_sample.ga_sessions_20170801`\n",
        ")\n",
        "WHERE\n",
        "  row_num = 1;\n",
        "\n",
        "```\n",
        "\n"
      ]
    },
    {
      "cell_type": "markdown",
      "metadata": {
        "id": "b8651171"
      },
      "source": [
        "## ## **4. Missing Values**\n",
        "\n",
        "Description: Replace NULL or empty totals.\n",
        "transactionRevenue fiels with \"0\"."
      ]
    },
    {
      "cell_type": "markdown",
      "source": [
        "\n",
        "**Checking Missing Values**\n",
        "```\n",
        "SELECT\n",
        "  COUNTIF(totals.transactionRevenue IS NULL) AS null_count,\n",
        "  COUNTIF(totals.transactionRevenue IS NOT NULL) AS not_null_count\n",
        "FROM\n",
        "  `bigquery-public-data.google_analytics_sample.ga_sessions_20170801`;\n",
        "```\n",
        "\n"
      ],
      "metadata": {
        "id": "QfNM-qKXnCDQ"
      }
    },
    {
      "cell_type": "markdown",
      "metadata": {
        "id": "cVYOvAYJ9dnG"
      },
      "source": [
        "\n",
        "**Handaling/Imputing Missing Revenue**\n",
        "```\n",
        "SELECT\n",
        "  COALESCE(totals.transactionRevenue, 0) AS revenue\n",
        "FROM\n",
        "  `bigquery-public-data.google_analytics_sample.ga_sessions_20170801`;\n",
        "\n",
        "\n",
        "```\n",
        "\n",
        "\n",
        "```\n",
        "SELECT\n",
        "  trafficSource.referralPath,\n",
        "  IFNULL(trafficSource.referralPath, \"Direct\") AS referralPath\n",
        "FROM\n",
        "  `bigquery-public-data.google_analytics_sample.ga_sessions_20170801`;\n",
        "```\n",
        "\n",
        "\n",
        "\n"
      ]
    },
    {
      "cell_type": "markdown",
      "metadata": {
        "id": "12788d10"
      },
      "source": [
        "## ## **5. Standardize Categorical Data**\n",
        "\n",
        "Description: Convert trafficSource to uppercase for consistency."
      ]
    },
    {
      "cell_type": "markdown",
      "metadata": {
        "id": "rWmSj3Pk9vDs"
      },
      "source": [
        "\n",
        "\n",
        "```\n",
        "SELECT\n",
        "  trafficSource.source,\n",
        "  UPPER(trafficSource.source) AS source_uppercase\n",
        "FROM\n",
        "  `bigquery-public-data.google_analytics_sample.ga_sessions_20170801`\n",
        "LIMIT 10;\n",
        "\n",
        "\n",
        "```\n",
        "\n"
      ]
    },
    {
      "cell_type": "markdown",
      "metadata": {
        "id": "b2ebe075"
      },
      "source": [
        "## ## **6. Filter Out data**\n",
        "\n",
        "Description: Exclude sessions with pageviews exceeding a defined threshold (e.g., 1000)."
      ]
    },
    {
      "cell_type": "markdown",
      "metadata": {
        "id": "iX4BpqV-91gb"
      },
      "source": [
        "\n",
        "\n",
        "```\n",
        "SELECT *\n",
        "FROM\n",
        "  `bigquery-public-data.google_analytics_sample.ga_sessions_*`\n",
        "WHERE\n",
        "  totals.pageviews <= 1000;\n",
        "\n",
        "```\n",
        "\n",
        "\n",
        "\n",
        "```\n",
        "SELECT *\n",
        "FROM\n",
        "  `bigquery-public-data.google_analytics_sample.ga_sessions_20170801`\n",
        "WHERE\n",
        "  trafficSource.source LIKE \"%google%\" OR trafficSource.source LIKE \"%bing%\";\n",
        "```\n",
        "\n",
        "\n",
        "\n"
      ]
    },
    {
      "cell_type": "markdown",
      "metadata": {
        "id": "25b3a3a5"
      },
      "source": [
        "## ## **7. Flatten Nested hits Field**\n",
        "\n",
        "Description: Unnest hits for detailed event-level data."
      ]
    },
    {
      "cell_type": "markdown",
      "metadata": {
        "id": "mWcfsQVq97wc"
      },
      "source": [
        "\n",
        "\n",
        "```\n",
        "SELECT\n",
        "  fullVisitorId,\n",
        "  visitId,\n",
        "  hits.page.pagePath,\n",
        "  hits.eventInfo.eventCategory\n",
        "FROM\n",
        "  `bigquery-public-data.google_analytics_sample.ga_sessions_20170801`,\n",
        "  UNNEST(hits) AS hits;\n",
        "```\n",
        "\n"
      ]
    },
    {
      "cell_type": "markdown",
      "metadata": {
        "id": "2b6a8b67"
      },
      "source": [
        "## ## **8. Identify and Handle Outliers in Session Duration**\n",
        "\n",
        "Description: Flag sessions with abnormally long durations.\n",
        "sql"
      ]
    },
    {
      "cell_type": "markdown",
      "metadata": {
        "id": "zfvNnSDs-PI7"
      },
      "source": [
        "\n",
        "\n",
        "```\n",
        "SELECT *\n",
        "FROM\n",
        "  `bigquery-public-data.google_analytics_sample.ga_sessions_*`\n",
        "WHERE\n",
        "  totals.timeOnSite > 3600; -- More than an hour\n",
        "\n",
        "```\n",
        "\n"
      ]
    },
    {
      "cell_type": "markdown",
      "metadata": {
        "id": "9547ca3a"
      },
      "source": [
        "## ## **9. Combine Source and Medium**\n",
        "\n",
        "Description: Concatenate source and medium for better analysis."
      ]
    },
    {
      "cell_type": "markdown",
      "metadata": {
        "id": "rdmCs3H6-VV_"
      },
      "source": [
        "\n",
        "\n",
        "```\n",
        "SELECT\n",
        "  CONCAT(trafficSource.source, \" / \", trafficSource.medium) AS source_medium\n",
        "FROM\n",
        "  `bigquery-public-data.google_analytics_sample.ga_sessions_*`;\n",
        "\n",
        "```\n",
        "\n"
      ]
    },
    {
      "cell_type": "markdown",
      "metadata": {
        "id": "192f955b"
      },
      "source": [
        "## ## **10. Conditional Columns**\n",
        "\n",
        "Description: Flag sessions with only one hit as bounces."
      ]
    },
    {
      "cell_type": "markdown",
      "metadata": {
        "id": "dMb5cB-l-o_w"
      },
      "source": [
        "\n",
        "\n",
        "```\n",
        "SELECT\n",
        "  CASE WHEN totals.pageviews = 1 THEN TRUE ELSE FALSE END AS is_bounce\n",
        "FROM\n",
        "  `bigquery-public-data.google_analytics_sample.ga_sessions_20170801`;\n",
        "\n",
        "```\n",
        "\n",
        "\n",
        "\n",
        "\n"
      ]
    },
    {
      "cell_type": "markdown",
      "metadata": {
        "id": "b61754c0"
      },
      "source": [
        "## ## **11. Standardize Device Categories**\n",
        "Description: Group devices into broader categories (e.g., Mobile, Desktop, Tablet)."
      ]
    },
    {
      "cell_type": "markdown",
      "metadata": {
        "id": "wjLwmmgV-vTI"
      },
      "source": [
        "\n",
        "\n",
        "```\n",
        "SELECT\n",
        "  distinct device.deviceCategory,\n",
        "  CASE\n",
        "    WHEN device.deviceCategory = \"mobile\" THEN \"Mobile\"\n",
        "    WHEN device.deviceCategory = \"tablet\" THEN \"Tablet\"\n",
        "    ELSE \"Desktop\"\n",
        "  END AS device_type\n",
        "FROM\n",
        "  `bigquery-public-data.google_analytics_sample.ga_sessions_20170801`;\n",
        "\n",
        "```\n",
        "\n"
      ]
    },
    {
      "cell_type": "markdown",
      "metadata": {
        "id": "bbcb9d04"
      },
      "source": [
        "## ## **12. Convert Currency Fields**\n",
        "\n",
        "Description: Convert revenue fields from strings to numbers for calculations."
      ]
    },
    {
      "cell_type": "markdown",
      "metadata": {
        "id": "4jwzMTNk_Bki"
      },
      "source": [
        "\n",
        "\n",
        "```\n",
        "SELECT\n",
        "  CAST(totals.transactionRevenue AS FLOAT64) AS revenue\n",
        "FROM\n",
        "  `bigquery-public-data.google_analytics_sample.ga_sessions_20170801`;\n",
        "\n",
        "```\n",
        "\n"
      ]
    },
    {
      "cell_type": "markdown",
      "metadata": {
        "id": "a8935bf6"
      },
      "source": [
        "## ## **13. Remove Special Characters**\n",
        "\n",
        "You might want to remove special characters or punctuation that are not relevant to the analysis. This can be done using regular expressions (REGEXP_REPLACE)."
      ]
    },
    {
      "cell_type": "markdown",
      "metadata": {
        "id": "Y0bJxr44MNNX"
      },
      "source": [
        "\n",
        "\n",
        "```\n",
        "SELECT\n",
        "  trafficSource.source,\n",
        "  REGEXP_REPLACE(trafficSource.source, r'[^a-zA-Z0-9\\s]', '') AS clean_source\n",
        "FROM\n",
        "  `bigquery-public-data.google_analytics_sample.ga_sessions_20170801`\n",
        "LIMIT 10;\n",
        "\n",
        "```\n",
        "\n"
      ]
    },
    {
      "cell_type": "markdown",
      "metadata": {
        "id": "444384e6"
      },
      "source": [
        "## ## **14. Add a Calculated Column for Session Value**\n",
        "\n",
        "Description: Derive a metric for the value of each session."
      ]
    },
    {
      "cell_type": "markdown",
      "metadata": {
        "id": "zwlxgWvP_Hj5"
      },
      "source": [
        "\n",
        "\n",
        "```\n",
        "SELECT\n",
        "  PARSE_DATE('%Y%m%d', CAST(date AS STRING)) AS formatted_date,\n",
        "  SUM(CAST(totals.transactionRevenue AS FLOAT64) / totals.visits) AS session_value\n",
        "FROM\n",
        "  `bigquery-public-data.google_analytics_sample.ga_sessions_*`\n",
        "WHERE\n",
        "  _TABLE_SUFFIX BETWEEN '20170101' AND '20170131'\n",
        "AND\n",
        "  totals.visits > 0\n",
        "GROUP BY formatted_date\n",
        "\n",
        "```\n",
        "\n",
        "\n",
        "```\n",
        "SELECT\n",
        "  SUM(totals.pageviews) AS total_pageviews,\n",
        "  SUM(CAST(totals.transactionRevenue AS FLOAT64)) AS total_revenue,\n",
        "  COUNT(DISTINCT fullVisitorId) AS unique_visitors\n",
        "FROM\n",
        "  `bigquery-public-data.google_analytics_sample.ga_sessions_*`\n",
        "WHERE\n",
        "  _TABLE_SUFFIX BETWEEN '20170101' AND '20170131';\n",
        "```\n",
        "\n",
        "\n",
        "\n"
      ]
    },
    {
      "cell_type": "markdown",
      "metadata": {
        "id": "mI-Filiq_0dU"
      },
      "source": [
        "# SQL Script: Data Cleaning and Structuring & saving as views for further use of Regression analysis"
      ]
    },
    {
      "cell_type": "markdown",
      "metadata": {
        "id": "Sj_VSJr8_2FG"
      },
      "source": [
        "\n",
        "\n",
        "```\n",
        "CREATE VIEW `keen-phalanx-396514.Assignment.ga4agg` AS\n",
        "WITH cleaned_data AS (\n",
        "  SELECT\n",
        "    -- Visitor and session identifiers\n",
        "    fullVisitorId,\n",
        "    visitId,\n",
        "\n",
        "    -- Date field as a proper DATE type\n",
        "    PARSE_DATE('%Y%m%d', CAST(date AS STRING)) AS visit_date,\n",
        "\n",
        "    -- Numeric metrics with NULLs replaced by 0\n",
        "    COALESCE(CAST(totals.pageviews AS INT64), 0) AS pageviews,\n",
        "    COALESCE(CAST(totals.hits AS INT64), 0) AS hits,\n",
        "    COALESCE(CAST(totals.transactions AS INT64), 0) AS transactions,\n",
        "    COALESCE(CAST(totals.transactionRevenue AS FLOAT64), 0.0) AS revenue,  -- Updated to use transactionRevenue\n",
        "    COALESCE(CAST(totals.timeOnSite AS INT64), 0) AS time_on_site,\n",
        "\n",
        "    -- Traffic source (standardized and combined)\n",
        "    LOWER(CONCAT(trafficSource.source, \" / \", trafficSource.medium)) AS source_medium,\n",
        "\n",
        "    -- Device category (simplified to Mobile/Desktop/Tablet)\n",
        "    CASE\n",
        "      WHEN device.deviceCategory = \"mobile\" THEN \"Mobile\"\n",
        "      WHEN device.deviceCategory = \"tablet\" THEN \"Tablet\"\n",
        "      ELSE \"Desktop\"\n",
        "    END AS device_category,\n",
        "\n",
        "    -- Geographic information with NULLs replaced by \"Unknown\"\n",
        "    COALESCE(geoNetwork.country, \"Unknown\") AS country,\n",
        "    COALESCE(geoNetwork.city, \"Unknown\") AS city,\n",
        "\n",
        "    -- Bounce rate indicator\n",
        "    CASE WHEN COALESCE(CAST(totals.pageviews AS INT64), 0) = 1 THEN TRUE ELSE FALSE END AS is_bounce,\n",
        "\n",
        "    -- Derived session value\n",
        "    CASE\n",
        "      WHEN COALESCE(CAST(totals.transactions AS INT64), 0) > 0\n",
        "           AND COALESCE(CAST(totals.transactionRevenue AS FLOAT64), 0.0) > 0  -- Updated for transactionRevenue\n",
        "      THEN CAST(totals.transactionRevenue AS FLOAT64) / CAST(totals.transactions AS FLOAT64)\n",
        "      ELSE 0.0\n",
        "    END AS session_value\n",
        "  FROM\n",
        "    `bigquery-public-data.google_analytics_sample.ga_sessions_*`\n",
        "  WHERE\n",
        "    _TABLE_SUFFIX BETWEEN '20170101' AND '20170131' -- Filter data for January 2017\n",
        "    AND fullVisitorId IS NOT NULL -- Remove rows with missing visitor IDs\n",
        "),\n",
        "\n",
        "-- STEP 2: Aggregate key metrics by visitor for regression\n",
        "aggregated_data AS (\n",
        "  SELECT\n",
        "    fullVisitorId,\n",
        "    COUNT(DISTINCT visitId) AS session_count,\n",
        "    SUM(pageviews) AS total_pageviews,\n",
        "    SUM(hits) AS total_hits,\n",
        "    SUM(transactions) AS total_transactions,\n",
        "    SUM(revenue) AS total_revenue,\n",
        "    AVG(time_on_site) AS avg_time_on_site,\n",
        "    AVG(session_value) AS avg_session_value,\n",
        "    COUNTIF(is_bounce) AS total_bounces,\n",
        "    -- Device and source statistics\n",
        "    ANY_VALUE(device_category) AS primary_device_category,\n",
        "    ANY_VALUE(source_medium) AS primary_source_medium,\n",
        "    -- Geographic details\n",
        "    ANY_VALUE(country) AS primary_country\n",
        "  FROM\n",
        "    cleaned_data\n",
        "  GROUP BY\n",
        "    fullVisitorId\n",
        "),\n",
        "\n",
        "-- STEP 3: Prepare the final dataset for regression\n",
        "final_data AS (\n",
        "  SELECT\n",
        "    *,\n",
        "    -- Calculate bounce rate as a percentage\n",
        "    (total_bounces * 100.0 / session_count) AS bounce_rate,\n",
        "    -- Log-transform revenue for regression purposes\n",
        "    LOG(NULLIF(total_revenue, 0) + 1) AS log_revenue\n",
        "  FROM\n",
        "    aggregated_data\n",
        ")\n",
        "\n",
        "-- STEP 4: Output the final dataset\n",
        "SELECT *\n",
        "FROM final_data\n",
        "\n",
        "\n",
        "```\n",
        "\n"
      ]
    },
    {
      "cell_type": "markdown",
      "metadata": {
        "id": "T_Oe3uYx_3PZ"
      },
      "source": [
        "**Explanation of Steps:**\n",
        "Cleaning the Data (CTE: cleaned_data):\n",
        "\n",
        "This step handles missing values and converts fields into usable formats:\n",
        "Date conversion ensures proper date formatting.\n",
        "Numeric fields like pageviews, hits, and transactions are cleaned with COALESCE to replace NULL values with 0, ensuring consistency for analysis.\n",
        "Categorical fields like country, city, and deviceCategory are standardized, replacing NULL values with default labels like \"Unknown\" or consolidating values like mobile, tablet, and desktop into three categories.\n",
        "Bounce rate is calculated by marking sessions with only one pageview as a bounce, allowing us to identify low-engagement sessions.\n",
        "A derived session value is computed by dividing revenue by transactions, highlighting the value of each session.\n",
        "Aggregation (CTE: aggregated_data):\n",
        "\n",
        "This step groups the data by fullVisitorId and aggregates key metrics:\n",
        "Session count, total pageviews, hits, and transactions provide a high-level summary of user activity.\n",
        "Total revenue and average session value are derived to understand user spending and behavior.\n",
        "Bounce count is aggregated to calculate bounce rate.\n",
        "Device and source statistics capture the most common device used and the source/medium combination for each visitor.\n",
        "Geographic information is consolidated to provide a primary country for each visitor.\n",
        "Feature Engineering (CTE: final_data):\n",
        "\n",
        "This step prepares the data for regression analysis:\n",
        "Bounce rate is calculated as a percentage to reflect the proportion of sessions that resulted in a bounce.\n",
        "Log-transformed revenue is used to make the revenue data more suitable for regression models by stabilizing variance and ensuring a more normal distribution.\n",
        "Final Output:\n",
        "\n",
        "The final_data CTE produces the cleaned, aggregated, and feature-engineered dataset. The final output includes:\n",
        "Visitor-level metrics like total_pageviews, total_hits, total_revenue, etc.\n",
        "Derived fields like bounce_rate and log_revenue for regression analysis.\n",
        "Standardized categorical data for device type, source/medium, and country.\n",
        "This dataset is now ready for regression modeling, with numeric and categorical variables that will provide insights into user behavior and potential revenue predictions."
      ]
    },
    {
      "cell_type": "markdown",
      "metadata": {
        "id": "9d468202"
      },
      "source": [
        "## # **Example Queries Using Relevant Columns**"
      ]
    },
    {
      "cell_type": "markdown",
      "metadata": {
        "id": "-TJ6Kg_T_6oK"
      },
      "source": [
        "1. Sessions by Device Category and Browser\n",
        "\n",
        "\n",
        "\n",
        "```\n",
        "SELECT\n",
        "  device.deviceCategory,\n",
        "  device.browser,\n",
        "  COUNT(*) AS session_count\n",
        "FROM\n",
        "  `bigquery-public-data.google_analytics_sample.ga_sessions_20170801`\n",
        "GROUP BY\n",
        "  device.deviceCategory,\n",
        "  device.browser\n",
        "ORDER BY\n",
        "  session_count DESC\n",
        "LIMIT 10;\n",
        "\n",
        "```\n",
        "\n"
      ]
    },
    {
      "cell_type": "markdown",
      "metadata": {
        "id": "1O7XVJf5GzKi"
      },
      "source": [
        "2. Top Countries by Page views\n",
        "\n",
        "\n",
        "\n",
        "```\n",
        "SELECT\n",
        "  geoNetwork.country,\n",
        "  SUM(totals.pageviews) AS total_pageviews\n",
        "FROM\n",
        "  `bigquery-public-data.google_analytics_sample.ga_sessions_20170801`\n",
        "WHERE\n",
        " totals.pageviews IS NOT NULL\n",
        "GROUP BY\n",
        "  geoNetwork.country\n",
        "order by\n",
        "total_pageviews desc\n",
        "limit 10\n",
        "\n",
        "```\n",
        "\n"
      ]
    },
    {
      "cell_type": "markdown",
      "metadata": {
        "id": "gfNNFxAqIMwy"
      },
      "source": [
        "3. Pageviews Distribution by Traffic Source\n",
        "\n",
        "\n",
        "\n",
        "```\n",
        "SELECT\n",
        "  trafficSource.source,\n",
        "  trafficSource.medium,\n",
        "  AVG(totals.pageviews) AS avg_pageviews,\n",
        "  SUM(totals.pageviews) AS total_pageviews\n",
        "FROM\n",
        "  `bigquery-public-data.google_analytics_sample.ga_sessions_20170801`\n",
        "GROUP BY\n",
        "  trafficSource.source, trafficSource.medium\n",
        "ORDER BY\n",
        "  total_pageviews DESC\n",
        "LIMIT 10;\n",
        "\n",
        "```\n",
        "\n"
      ]
    },
    {
      "cell_type": "markdown",
      "metadata": {
        "id": "oh2u3e2KIQ-6"
      },
      "source": [
        "4. Analyze Bounce Rates by Device\n",
        "\n",
        "\n",
        "\n",
        "```\n",
        "SELECT\n",
        "  device.deviceCategory,\n",
        "  COUNTIF(totals.bounces = 1) / COUNT(*) AS bounce_rate\n",
        "FROM\n",
        "  `bigquery-public-data.google_analytics_sample.ga_sessions_20170801`\n",
        "GROUP BY\n",
        "  device.deviceCategory\n",
        "ORDER BY\n",
        "  bounce_rate DESC;\n",
        "\n",
        "```\n",
        "\n"
      ]
    },
    {
      "cell_type": "markdown",
      "metadata": {
        "id": "udQ_4iADIVZA"
      },
      "source": [
        "5. Product Sales Analysis\n",
        "\n",
        "```\n",
        "SELECT\n",
        "  product.v2ProductName AS product_name,\n",
        "  SUM(product.productQuantity) AS total_quantity\n",
        "FROM\n",
        "  `bigquery-public-data.google_analytics_sample.ga_sessions_20170801`,\n",
        "  UNNEST(hits) AS hit,\n",
        "  UNNEST(hit.product) AS product\n",
        "WHERE\n",
        "  product.v2ProductName IS NOT NULL\n",
        "GROUP BY\n",
        "  product_name\n",
        "ORDER BY\n",
        "  total_quantity DESC\n",
        "LIMIT 10;\n",
        "\n",
        "```\n",
        "\n"
      ]
    },
    {
      "cell_type": "markdown",
      "metadata": {
        "id": "VzNstASTJGRo"
      },
      "source": [
        "6. Hourly Traffic Analysis\n",
        "\n",
        "\n",
        "```\n",
        "SELECT\n",
        "  EXTRACT(HOUR FROM TIMESTAMP_SECONDS(visitStartTime)) AS hour,\n",
        "  COUNT(*) AS session_count\n",
        "FROM\n",
        "  `bigquery-public-data.google_analytics_sample.ga_sessions_20170801`\n",
        "GROUP BY\n",
        "  hour\n",
        "ORDER BY\n",
        "  hour;\n",
        "\n",
        "```\n",
        "\n"
      ]
    },
    {
      "cell_type": "markdown",
      "metadata": {
        "id": "9fbf6449"
      },
      "source": [
        "# Conclusion\n",
        "This notebook demonstrates a comprehensive approach to data cleaning using SQL. Each step ensures the data is prepared for advanced analysis, including regression and reporting."
      ]
    }
  ],
  "metadata": {
    "colab": {
      "provenance": [],
      "toc_visible": true
    },
    "kernelspec": {
      "display_name": "Python 3",
      "name": "python3"
    },
    "language_info": {
      "name": "python"
    }
  },
  "nbformat": 4,
  "nbformat_minor": 0
}